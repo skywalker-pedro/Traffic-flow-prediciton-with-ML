{
  "nbformat": 4,
  "nbformat_minor": 0,
  "metadata": {
    "colab": {
      "name": "tcc_plot.ipynb",
      "provenance": [],
      "collapsed_sections": [],
      "include_colab_link": true
    },
    "kernelspec": {
      "name": "python3",
      "display_name": "Python 3"
    }
  },
  "cells": [
    {
      "cell_type": "markdown",
      "metadata": {
        "id": "view-in-github",
        "colab_type": "text"
      },
      "source": [
        "<a href=\"https://colab.research.google.com/github/claudiosegala/tcc/blob/master/project/tcc_plot.ipynb\" target=\"_parent\"><img src=\"https://colab.research.google.com/assets/colab-badge.svg\" alt=\"Open In Colab\"/></a>"
      ]
    },
    {
      "cell_type": "code",
      "metadata": {
        "id": "qOQXOswEO6XU",
        "colab_type": "code",
        "outputId": "52e38767-43da-49a0-c739-0f17786e6d25",
        "colab": {
          "base_uri": "https://localhost:8080/",
          "height": 122
        }
      },
      "source": [
        "import google as g # To connect with google drive\n",
        "g.colab.drive.mount('/content/drive')"
      ],
      "execution_count": 0,
      "outputs": [
        {
          "output_type": "stream",
          "text": [
            "Go to this URL in a browser: https://accounts.google.com/o/oauth2/auth?client_id=947318989803-6bn6qk8qdgf4n4g3pfee6491hc0brc4i.apps.googleusercontent.com&redirect_uri=urn%3aietf%3awg%3aoauth%3a2.0%3aoob&response_type=code&scope=email%20https%3a%2f%2fwww.googleapis.com%2fauth%2fdocs.test%20https%3a%2f%2fwww.googleapis.com%2fauth%2fdrive%20https%3a%2f%2fwww.googleapis.com%2fauth%2fdrive.photos.readonly%20https%3a%2f%2fwww.googleapis.com%2fauth%2fpeopleapi.readonly\n",
            "\n",
            "Enter your authorization code:\n",
            "··········\n",
            "Mounted at /content/drive\n"
          ],
          "name": "stdout"
        }
      ]
    },
    {
      "cell_type": "code",
      "metadata": {
        "id": "h3fFPp_rNUCN",
        "colab_type": "code",
        "outputId": "43c3c295-7225-4944-f94f-5d6b9de14569",
        "colab": {
          "base_uri": "https://localhost:8080/",
          "height": 394
        }
      },
      "source": [
        "!pip install matplotlib\n",
        "!pip install pandas\n",
        "!pip install numpy\n",
        "!pip install unidecode\n",
        "!pip install collections"
      ],
      "execution_count": 0,
      "outputs": [
        {
          "output_type": "stream",
          "text": [
            "Requirement already satisfied: matplotlib in /usr/local/lib/python3.6/dist-packages (3.1.2)\n",
            "Requirement already satisfied: kiwisolver>=1.0.1 in /usr/local/lib/python3.6/dist-packages (from matplotlib) (1.1.0)\n",
            "Requirement already satisfied: python-dateutil>=2.1 in /usr/local/lib/python3.6/dist-packages (from matplotlib) (2.6.1)\n",
            "Requirement already satisfied: pyparsing!=2.0.4,!=2.1.2,!=2.1.6,>=2.0.1 in /usr/local/lib/python3.6/dist-packages (from matplotlib) (2.4.5)\n",
            "Requirement already satisfied: cycler>=0.10 in /usr/local/lib/python3.6/dist-packages (from matplotlib) (0.10.0)\n",
            "Requirement already satisfied: numpy>=1.11 in /usr/local/lib/python3.6/dist-packages (from matplotlib) (1.17.4)\n",
            "Requirement already satisfied: setuptools in /usr/local/lib/python3.6/dist-packages (from kiwisolver>=1.0.1->matplotlib) (42.0.2)\n",
            "Requirement already satisfied: six>=1.5 in /usr/local/lib/python3.6/dist-packages (from python-dateutil>=2.1->matplotlib) (1.12.0)\n",
            "Requirement already satisfied: pandas in /usr/local/lib/python3.6/dist-packages (0.25.3)\n",
            "Requirement already satisfied: numpy>=1.13.3 in /usr/local/lib/python3.6/dist-packages (from pandas) (1.17.4)\n",
            "Requirement already satisfied: pytz>=2017.2 in /usr/local/lib/python3.6/dist-packages (from pandas) (2018.9)\n",
            "Requirement already satisfied: python-dateutil>=2.6.1 in /usr/local/lib/python3.6/dist-packages (from pandas) (2.6.1)\n",
            "Requirement already satisfied: six>=1.5 in /usr/local/lib/python3.6/dist-packages (from python-dateutil>=2.6.1->pandas) (1.12.0)\n",
            "Requirement already satisfied: numpy in /usr/local/lib/python3.6/dist-packages (1.17.4)\n",
            "Collecting unidecode\n",
            "\u001b[?25l  Downloading https://files.pythonhosted.org/packages/d0/42/d9edfed04228bacea2d824904cae367ee9efd05e6cce7ceaaedd0b0ad964/Unidecode-1.1.1-py2.py3-none-any.whl (238kB)\n",
            "\u001b[K     |████████████████████████████████| 245kB 9.9MB/s \n",
            "\u001b[?25hInstalling collected packages: unidecode\n",
            "Successfully installed unidecode-1.1.1\n",
            "\u001b[31mERROR: Could not find a version that satisfies the requirement collections (from versions: none)\u001b[0m\n",
            "\u001b[31mERROR: No matching distribution found for collections\u001b[0m\n"
          ],
          "name": "stdout"
        }
      ]
    },
    {
      "cell_type": "code",
      "metadata": {
        "id": "8JuVvz-5Nde-",
        "colab_type": "code",
        "colab": {}
      },
      "source": [
        "import json\n",
        "import pandas as pd\n",
        "import matplotlib.pyplot as plt\n",
        "import numpy as np\n",
        "import unidecode\n",
        "import collections"
      ],
      "execution_count": 0,
      "outputs": []
    },
    {
      "cell_type": "code",
      "metadata": {
        "id": "c2i7pQLHN6lB",
        "colab_type": "code",
        "colab": {}
      },
      "source": [
        "PATH = '/content/drive/My Drive/TCC/'"
      ],
      "execution_count": 0,
      "outputs": []
    },
    {
      "cell_type": "code",
      "metadata": {
        "id": "7Gnp04cgN06W",
        "colab_type": "code",
        "colab": {}
      },
      "source": [
        "def plot_history (history, name):\n",
        "  \"\"\" Plot of History\n",
        "  \n",
        "  Plot the history of loss in the training session of a model\n",
        "  \n",
        "  Arguments:\n",
        "    history: the history returned by Keras fit of a model\n",
        "    name: the name of the model\n",
        "  \"\"\"\n",
        "  \n",
        "  path = f\"{PATH}plots/history/{name}\"\n",
        "  \n",
        "  plt.plot(history.history['loss'])\n",
        "  plt.plot(history.history['val_loss'])\n",
        "  plt.title(f\"Perda do Modelo {name}\")\n",
        "  plt.ylabel('Perda')\n",
        "  plt.xlabel('Época')\n",
        "  plt.legend(['treino', 'teste'], loc='upper left')\n",
        "  plt.rcdefaults()\n",
        "  \n",
        "  plt.savefig(path + \".png\", bbox_inches='tight')\n",
        "  # plt.savefig(path + \".pdf\")\n",
        "  \n",
        "  plt.close('all')"
      ],
      "execution_count": 0,
      "outputs": []
    },
    {
      "cell_type": "code",
      "metadata": {
        "id": "NSDJ1GU0N3XF",
        "colab_type": "code",
        "colab": {}
      },
      "source": [
        "def plot_prediction (Y, Y_hat, title):\n",
        "  \"\"\" Plot Prediction\n",
        "  \n",
        "  Plot the prediction (Flow x Time) of what was expected and what\n",
        "  was predicted.\n",
        "  \"\"\"\n",
        "\n",
        "  for i in range(len(Y)):\n",
        "    name = f\"{title} ({str(i+1).zfill(2)} of {len(Y)})\"\n",
        "    path = f\"{PATH}plots/prediction/{name}\"\n",
        "    \n",
        "    plt.plot(Y[i])\n",
        "    plt.plot(Y_hat[i])\n",
        "    plt.title(f\"Predição do Modelo {title}\")\n",
        "    plt.ylabel('Fluxo')\n",
        "    plt.xlabel('Tempo')\n",
        "    plt.legend(['esperado', 'observado'], loc='upper left')\n",
        "    plt.rcdefaults()\n",
        "\n",
        "    plt.savefig(path + \".png\", bbox_inches='tight')\n",
        "    # plt.savefig(path + \".pdf\")\n",
        "\n",
        "    plt.close('all')"
      ],
      "execution_count": 0,
      "outputs": []
    },
    {
      "cell_type": "code",
      "metadata": {
        "id": "-g_K0WlYOOct",
        "colab_type": "code",
        "colab": {}
      },
      "source": [
        "def plot_precision_bucket (results):\n",
        "  \"\"\" Plot Precision Bucket \n",
        "  \n",
        "  Plot a stack box graph of the precision mesuared by the buckets.\n",
        "  \"\"\"\n",
        "  \n",
        "  path = f\"{PATH}plots/precision\"\n",
        "  N = len(results)\n",
        "  ind = np.arange(N)    # the x locations for the groups\n",
        "  width = 0.35       # the width of the bars: can also be len(x) sequence\n",
        "  pre, bott = [], []\n",
        "  models = list(results.keys())\n",
        "  n_buckets = len(results[models[0]]['PRE'])\n",
        "    \n",
        "  for i in range(n_buckets):\n",
        "    pre.append([v[\"PRE\"][i] for v in results.values()])\n",
        "    \n",
        "    if i == 0:\n",
        "      bott.append([0] * N)\n",
        "    else:\n",
        "      bott.append([bott[i-1][j] + pre[i-1][j]  for j in range(N)])\n",
        "  \n",
        "  p, leg_lin, leg_lab = [], [], []\n",
        "  \n",
        "  for i in range(n_buckets):\n",
        "    _p = plt.bar(ind, tuple(pre[i]), width, bottom=tuple(bott[i]))\n",
        "    leg_lin.append(_p[0])\n",
        "    leg_lab.append(f\"Balde de {2**i}\")\n",
        "    p.append(_p)\n",
        "\n",
        "  plt.ylabel('Resultado')\n",
        "  plt.title('Precisão por modelo e balde')\n",
        "  plt.xticks(ind, models, rotation=90)\n",
        "  plt.yticks(np.arange(0, 1.05, 0.05))\n",
        "  plt.legend(tuple(leg_lin), tuple(leg_lab))\n",
        "  \n",
        "  plt.savefig(path + \".png\", bbox_inches='tight')\n",
        "  # plt.savefig(path + \".pdf\")\n",
        "\n",
        "  plt.close('all')"
      ],
      "execution_count": 0,
      "outputs": []
    },
    {
      "cell_type": "code",
      "metadata": {
        "id": "CIl05ekKOcKm",
        "colab_type": "code",
        "colab": {}
      },
      "source": [
        "def plot_performance(results, metric, y_label, title):\n",
        "  \"\"\" Plot Performance\n",
        "  \n",
        "  Plot a bar graph of the performance of some metric\n",
        "  \n",
        "  Arguments:\n",
        "    metric: the name of the property of the metric\n",
        "    y_label: the name of the label of the metric\n",
        "    title: the title of the plot\n",
        "  \"\"\"\n",
        "  \n",
        "  path = f\"{PATH}plots/performance/{title} Performance Bar\"\n",
        "  \n",
        "  models = tuple(results.keys())\n",
        "  y_pos = np.arange(len(models))\n",
        "  performance = [v[metric] for v in results.values()]\n",
        "\n",
        "  plt.rcdefaults()\n",
        "  plt.bar(y_pos, performance, align='center', alpha=0.5)\n",
        "  plt.xticks(y_pos, models, rotation=90)\n",
        "  plt.ylabel(y_label)\n",
        "  plt.title(title)\n",
        "\n",
        "  plt.savefig(path + \".png\", bbox_inches='tight')\n",
        "  # plt.savefig(path + \".pdf\")\n",
        "    \n",
        "  plt.close('all')"
      ],
      "execution_count": 0,
      "outputs": []
    },
    {
      "cell_type": "code",
      "metadata": {
        "id": "wZIkzedmOdqU",
        "colab_type": "code",
        "colab": {}
      },
      "source": [
        "def plot_performance_improved(results, metric, y_label, title):\n",
        "  \"\"\" Plot Performance Improved\n",
        "  \n",
        "  Plot a box graph of the performance of some metric\n",
        "  \n",
        "  Arguments:\n",
        "    results: the struct that contain the results of the models\n",
        "    metric: the name of the property of the metric\n",
        "    y_label: the name of the label of the metric\n",
        "    title: the title of the plot\n",
        "  \"\"\"\n",
        "  \n",
        "  path = f\"{PATH}plots/performance/{unidecode.unidecode(title).lower().replace(' ', '_')}_performance_boxes\"\n",
        "  \n",
        "  fig, ax_plot = plt.subplots()\n",
        "  \n",
        "  ax_plot.set_title(title)\n",
        "  ax_plot.set_xlabel(y_label)\n",
        "  ax_plot.set_ylabel('Modelos')\n",
        "  \n",
        "  bplot = ax_plot.boxplot([v['raw'][metric] for v in results.values()], vert=False)\n",
        "  ax_plot.set_yticklabels(list(results.keys()))\n",
        "  \n",
        "  plt.savefig(path + \".png\", bbox_inches='tight')\n",
        "  # plt.savefig(path + \".pdf\")\n",
        "    \n",
        "  plt.close('all')"
      ],
      "execution_count": 0,
      "outputs": []
    },
    {
      "cell_type": "code",
      "metadata": {
        "id": "z2_4LKJGOj_f",
        "colab_type": "code",
        "colab": {}
      },
      "source": [
        "def plot_results_comparison(name, xlabel, xticks, metric):\n",
        "  path = f\"{PATH}plots/comparison/{unidecode.unidecode(name).lower().replace(' ', '_')}_{metric.lower()}\"\n",
        "  models = [*comparison_data[0]['results']]\n",
        "  \n",
        "  for model in models:\n",
        "    datapoints = [result['results'][model][metric] for result in comparison_data]\n",
        "    plt.plot(datapoints) \n",
        "\n",
        "  plt.title(name)\n",
        "  plt.ylabel(metric)\n",
        "  plt.xlabel(xlabel)\n",
        "  plt.xticks(np.arange(len(xticks)), xticks)\n",
        "  plt.legend(models, loc='upper left')\n",
        "  plt.rcdefaults()\n",
        "\n",
        "  plt.savefig(path + \".png\", bbox_inches='tight')\n",
        "  # plt.savefig(path + \".pdf\")\n",
        "    \n",
        "  plt.close('all')"
      ],
      "execution_count": 0,
      "outputs": []
    },
    {
      "cell_type": "code",
      "metadata": {
        "id": "5YLhbT-wOqye",
        "colab_type": "code",
        "colab": {}
      },
      "source": [
        "def plot_snapshot(results):\n",
        "  # plot_precision_bucket(results)\n",
        "  # plot_performance(results, 'TIME', 'Segundos', 'Comparação do Tempo de Treinamento')\n",
        "  plot_performance_improved(results, 'TIME', 'Segundos', 'Comparação do Tempo de Treinamento (60 minutos, Com Tuning)')\n",
        "  # plot_performance(results, 'RMSE', 'RMSE', 'Comparação do RMSE')\n",
        "  plot_performance_improved(results, 'RMSE', 'RMSE', 'Comparação do RMSE (60 minutos, Com Tuning)')\n",
        "  # plot_performance(results, 'NRMSE', 'NRMSE', 'Comparação de NRMSE')\n",
        "  plot_performance_improved(results, 'NRMSE', 'NRMSE', 'Comparação de NRMSE')\n",
        "  # plot_performance(results, 'MAE', 'MAE', 'Comparação de MAE')\n",
        "  plot_performance_improved(results, 'MAE', 'MAE', 'Comparação de MAE (60 minutos, Com Tuning)')\n",
        "  # plot_performance(results, 'HR', 'Porcentagem', 'Comparação de Precisão')\n",
        "  plot_performance_improved(results, 'HR', 'Porcentagem', 'Comparação de Precisão (60 minutos, Com Tuning)')\n",
        "\n",
        "  for name in results:\n",
        "    raw = results[name]['raw']\n",
        "    print(f\"NRMSE {name}: {np.mean(raw['NRMSE'])} +/- {np.std(raw['NRMSE'])}\")\n",
        "\n",
        "  for name in results:\n",
        "    raw = results[name]['raw']\n",
        "    plot_prediction(raw['expected'], raw['observed'], name)\n",
        "    \n",
        "    if 'history' in raw:\n",
        "      n_hist = len(raw['history'])\n",
        "      \n",
        "      for i in range(n_hist):\n",
        "        plot_history(raw['history'][i], f\"{name} ({str(i+1).zfill(2)} of {n_hist})\")"
      ],
      "execution_count": 0,
      "outputs": []
    },
    {
      "cell_type": "code",
      "metadata": {
        "id": "9TlQEv4cB3oc",
        "colab_type": "code",
        "colab": {}
      },
      "source": [
        "# Useful\n",
        "# https://towardsdatascience.com/using-3d-visualizations-to-tune-hyperparameters-of-ml-models-with-python-ba2885eab2e9\n",
        "# https://blancas.io/sklearn-evaluation/user_guide/grid_search.html\n",
        "\n",
        "# Based on:\n",
        "# https://stackoverflow.com/questions/37161563/how-to-graph-grid-scores-from-gridsearchcv\n",
        "def plot_grid_search(name, cv_results, grid_param_1, grid_param_2, name_param_1, name_param_2):\n",
        "    path = f\"{PATH}plots/grid/{name}\"\n",
        "\n",
        "    shape = (len(grid_param_2), len(grid_param_1))\n",
        "    scores_mean = np.array(cv_results['mean_test_score']).reshape(shape)\n",
        "    scores_sd = np.array(cv_results['std_test_score']).reshape(shape)\n",
        "\n",
        "    # Plot Grid search scores\n",
        "    _, ax = plt.subplots(1,1)\n",
        "\n",
        "    # Param1 is the X-axis, Param 2 is represented as a different curve (color line)\n",
        "    for idx, val in enumerate(grid_param_2):\n",
        "        ax.plot(grid_param_1, scores_mean[idx,:], '-o', label= name_param_2 + ': ' + str(val))\n",
        "\n",
        "    ax.set_title(\"Resultados da Busca em Grade\")\n",
        "    ax.set_xlabel(name_param_1)\n",
        "    ax.set_ylabel('Média dos Resultados')\n",
        "    ax.legend(loc=\"best\", fontsize=15)\n",
        "    ax.grid('on')\n",
        "\n",
        "    plt.savefig(path + \".png\", bbox_inches='tight')\n",
        "  # plt.savefig(path + \".pdf\")\n",
        "    \n",
        "    plt.close('all')\n"
      ],
      "execution_count": 0,
      "outputs": []
    },
    {
      "cell_type": "code",
      "metadata": {
        "id": "sdhX8MSL8k4R",
        "colab_type": "code",
        "colab": {}
      },
      "source": [
        "def plot_blocking(n_splits, n_samples):\n",
        "  k_fold_size = n_samples // n_splits\n",
        "  \n",
        "  pre = [[k_fold_size * 0.8] * n_splits, [k_fold_size * 0.2] * n_splits]\n",
        "  bott = [[], []]\n",
        "\n",
        "  for i in range(n_splits):\n",
        "    start = i * k_fold_size\n",
        "    stop = start + k_fold_size\n",
        "    mid = int(0.8 * (stop - start)) + start\n",
        "\n",
        "    bott[0].append(start)\n",
        "    bott[1].append(mid)\n",
        "\n",
        "  path = f\"{PATH}plots/blocking\"\n",
        "\n",
        "  ind = np.arange(n_splits)    # the x locations for the groups\n",
        "  p, leg_lin, leg_lab = [], [], []\n",
        "  \n",
        "  for i in range(2):\n",
        "    _p = plt.barh(ind, tuple(pre[i]), left=tuple(bott[i]))\n",
        "    leg_lin.append(_p[0])\n",
        "    leg_lab.append(\"Teste\" if i == 1 else \"Treino\")\n",
        "    p.append(_p)\n",
        "\n",
        "  plt.title(\"Divisão de Séries Temporais ({0} Amostras, {1} Divisões)\".format(n_samples, n_splits))\n",
        "  plt.xlabel('Amostras')\n",
        "  plt.ylabel('Divisões')\n",
        "  plt.xticks(np.arange(0, n_samples+1, n_samples // 5))\n",
        "  plt.yticks(ind, np.arange(1, n_splits+1))\n",
        "  plt.legend(tuple(leg_lin), tuple(leg_lab))\n",
        "  plt.rcdefaults()\n",
        "    \n",
        "  plt.savefig(path + \".png\")\n",
        "\n",
        "  plt.close('all')\n"
      ],
      "execution_count": 0,
      "outputs": []
    },
    {
      "cell_type": "code",
      "metadata": {
        "id": "mUx9KmuvR_Wl",
        "colab_type": "code",
        "colab": {}
      },
      "source": [
        "def print_json (obj):\n",
        "  print(json.dumps(obj, sort_keys=True, indent=4))"
      ],
      "execution_count": 0,
      "outputs": []
    },
    {
      "cell_type": "code",
      "metadata": {
        "id": "St7o-n6GkNFJ",
        "colab_type": "code",
        "colab": {}
      },
      "source": [
        "def build_tune_json():\n",
        "  path = f\"{PATH}results/grid/\"\n",
        "  models = ['Moving Average', 'Naive', 'RF A', 'RF B', 'SVM A', 'SVM B', 'LSTM A', 'LSTM B', 'GRU A', 'GRU B']\n",
        "  times = [15, 30, 45, 60]\n",
        "\n",
        "  comparison_data = []\n",
        "\n",
        "  for time in times:\n",
        "    results = {}\n",
        "    meta = {\n",
        "      \"FLOW_INTERVAL\": 150,\n",
        "      \"N_SPLITS\": 8,\n",
        "      \"PREDICT_IN_FUTURE\": time,\n",
        "      \"SEEABLE_PAST\": 480\n",
        "    }\n",
        "\n",
        "    for model in models:\n",
        "      \n",
        "      with open(f\"{path}{model}_{time}.json\", 'r') as json_file:\n",
        "        results[model] = json.load(json_file)\n",
        "\n",
        "    comparison_data.append({\n",
        "        \"results\": results,\n",
        "        \"meta\": meta\n",
        "    })\n",
        "\n",
        "  with open(f\"{PATH}results/comparison/predict_future_comparison_0.json\", 'w') as json_file:\n",
        "    json.dump(comparison_data, json_file, sort_keys=True, indent=4)"
      ],
      "execution_count": 0,
      "outputs": []
    },
    {
      "cell_type": "code",
      "metadata": {
        "id": "aQ6S49k6nxua",
        "colab_type": "code",
        "colab": {}
      },
      "source": [
        "build_tune_json()"
      ],
      "execution_count": 0,
      "outputs": []
    },
    {
      "cell_type": "code",
      "metadata": {
        "id": "SZsf9ME-E2tu",
        "colab_type": "code",
        "colab": {}
      },
      "source": [
        "plot_blocking(8, 10000)"
      ],
      "execution_count": 0,
      "outputs": []
    },
    {
      "cell_type": "code",
      "metadata": {
        "id": "eiSWMX1HQKXx",
        "colab_type": "code",
        "outputId": "125816b2-b941-4bbe-ebda-bf036a3fc68e",
        "colab": {
          "base_uri": "https://localhost:8080/",
          "height": 527
        }
      },
      "source": [
        "name_time = 1573441102\n",
        "\n",
        "with open(f\"{PATH}results/comparison/flow_interval_comparison_{name_time}.json\", 'r') as json_file:\n",
        "  comparison_data = json.load(json_file)\n",
        "  models = [*comparison_data[0]['results']]\n",
        "\n",
        "  for result in comparison_data:\n",
        "    for model in models:\n",
        "      raw = result['results'][model]['raw']\n",
        "\n",
        "      n = len(raw['RMSE'])\n",
        "      raw['NRMSE'] = [0.0] * n\n",
        "\n",
        "      for i in range(n):\n",
        "        raw['NRMSE'][i] = raw['RMSE'][i] / np.std(raw['expected'][i])\n",
        "\n",
        "  for result in comparison_data:\n",
        "    for model in models:\n",
        "      raw = result['results'][model]['raw']\n",
        "      result['results'][model]['NRMSE'] = float(np.mean(raw['NRMSE'])),\n",
        "\n",
        "  for result_data in comparison_data:\n",
        "    plot_snapshot(result_data['results'])\n",
        "\n",
        "  plot_name = 'Comparação do Tamanho do Intervalo do Fluxo'\n",
        "  plot_y_label = 'Intervalo do Fluxo (Segundos)'\n",
        "  values = [r['meta']['FLOW_INTERVAL'] for r in comparison_data]\n",
        "\n",
        "  plot_results_comparison(plot_name, plot_y_label, values, 'NRMSE')\n",
        "  plot_results_comparison(plot_name, plot_y_label, values, 'RMSE')\n",
        "  plot_results_comparison(plot_name, plot_y_label, values, 'MAE')\n",
        "  plot_results_comparison(plot_name, plot_y_label, values, 'HR')\n",
        "  plot_results_comparison(plot_name, plot_y_label, values, 'TIME')"
      ],
      "execution_count": 0,
      "outputs": [
        {
          "output_type": "stream",
          "text": [
            "NRMSE GRU A: 0.6084572259839195 +/- 0.058632599488098194\n",
            "NRMSE GRU B: 0.6045135077383357 +/- 0.0515167798678564\n",
            "NRMSE LSTM A: 0.6176807502281327 +/- 0.06780012958667166\n",
            "NRMSE LSTM B: 0.6082928520639101 +/- 0.05636645937348427\n",
            "NRMSE Moving Average: 1.0680899537840958 +/- 0.004227630179684329\n",
            "NRMSE Naive: 0.9405996219967254 +/- 0.03652589453119451\n",
            "NRMSE RF A: 0.5339147118680814 +/- 0.048011045881667956\n",
            "NRMSE RF B: 0.538515244501199 +/- 0.04725495896499362\n",
            "NRMSE SVM A: 0.5457314823140852 +/- 0.04675532212788773\n",
            "NRMSE SVM B: 0.5869940793051027 +/- 0.032999459176092025\n",
            "NRMSE GRU A: 0.49755873705470577 +/- 0.0499887286934658\n",
            "NRMSE GRU B: 0.4820984271995117 +/- 0.053715200310860835\n",
            "NRMSE LSTM A: 0.4987241234807994 +/- 0.04811842130527867\n",
            "NRMSE LSTM B: 0.4912416800714017 +/- 0.04934999552219166\n",
            "NRMSE Moving Average: 1.0971264221728672 +/- 0.021335536834323175\n",
            "NRMSE Naive: 0.8420808725836311 +/- 0.11284399308911529\n",
            "NRMSE RF A: 0.437585477659221 +/- 0.022118675703509685\n",
            "NRMSE RF B: 0.4414152666226713 +/- 0.019084961329687056\n",
            "NRMSE SVM A: 0.45435150757917914 +/- 0.017790499965099817\n",
            "NRMSE SVM B: 0.4978081877823943 +/- 0.013673518227007879\n",
            "NRMSE GRU A: 0.485898361214506 +/- 0.06957821349262118\n",
            "NRMSE GRU B: 0.4591739950434018 +/- 0.08804922717328358\n",
            "NRMSE LSTM A: 0.48485614453184966 +/- 0.060040546001056155\n",
            "NRMSE LSTM B: 0.48270896137577435 +/- 0.0669382074237398\n",
            "NRMSE Moving Average: 1.1227901163374976 +/- 0.0358290469022429\n",
            "NRMSE Naive: 0.6770285130387592 +/- 0.09534122736898122\n",
            "NRMSE RF A: 0.41632328679901676 +/- 0.0739945704390733\n",
            "NRMSE RF B: 0.41445478450539674 +/- 0.06550592956734329\n",
            "NRMSE SVM A: 0.44492831677454237 +/- 0.052742688211730865\n",
            "NRMSE SVM B: 0.4766597065563348 +/- 0.023938490383543273\n"
          ],
          "name": "stdout"
        }
      ]
    },
    {
      "cell_type": "code",
      "metadata": {
        "id": "4VPq_W0QQMqT",
        "colab_type": "code",
        "colab": {}
      },
      "source": [
        "name_time = 1573499125\n",
        "\n",
        "with open(f\"{PATH}results/comparison/n_split_comparison_{name_time}.json\", 'r') as json_file:\n",
        "  comparison_data = json.load(json_file)\n",
        "\n",
        "  for result_data in comparison_data:\n",
        "    plot_snapshot(result_data['results'])\n",
        "\n",
        "  plot_name = 'Comparação do Número de Divisões do Conjunto de Dados'\n",
        "  plot_y_label = 'Número de Divisões'\n",
        "  values = [r['meta']['N_SPLITS'] for r in comparison_data]\n",
        "\n",
        "  # plot_results_comparison(plot_name, plot_y_label, values, 'NRMSE')\n",
        "  plot_results_comparison(plot_name, plot_y_label, values, 'RMSE')\n",
        "  plot_results_comparison(plot_name, plot_y_label, values, 'MAE')\n",
        "  plot_results_comparison(plot_name, plot_y_label, values, 'HR')\n",
        "  plot_results_comparison(plot_name, plot_y_label, values, 'TIME')"
      ],
      "execution_count": 0,
      "outputs": []
    },
    {
      "cell_type": "code",
      "metadata": {
        "id": "KHNEWrnmP4Dt",
        "colab_type": "code",
        "colab": {}
      },
      "source": [
        "name_time = 1574109075\n",
        "\n",
        "with open(f\"{PATH}results/comparison/predict_future_comparison_{name_time}.json\", 'r') as json_file:\n",
        "  comparison_data = json.load(json_file)\n",
        "\n",
        "  # plot_snapshot(comparison_data[0]['results'])\n",
        "  for result_data in comparison_data:\n",
        "    plot_snapshot(result_data['results'])\n",
        "\n",
        "  plot_name = 'Comparação da Previsão de Curto Prazo'\n",
        "  plot_y_label = 'Tempo (Minutos)'\n",
        "  values = [r['meta']['PREDICT_IN_FUTURE'] for r in comparison_data]\n",
        "\n",
        "  # plot_results_comparison(plot_name, plot_y_label, values, 'NRMSE')\n",
        "  plot_results_comparison(plot_name, plot_y_label, values, 'RMSE')\n",
        "  plot_results_comparison(plot_name, plot_y_label, values, 'MAE')\n",
        "  plot_results_comparison(plot_name, plot_y_label, values, 'HR')\n",
        "  plot_results_comparison(plot_name, plot_y_label, values, 'TIME')"
      ],
      "execution_count": 0,
      "outputs": []
    },
    {
      "cell_type": "code",
      "metadata": {
        "id": "fZB2YWWW5pFz",
        "colab_type": "code",
        "colab": {}
      },
      "source": [
        "with open(f\"{PATH}results/comparison/predict_future_comparison_0.json\", 'r') as json_file:\n",
        "  comparison_data = json.load(json_file)\n",
        "\n",
        "  # plot_snapshot(comparison_data[0]['results'])\n",
        "  for result_data in comparison_data:\n",
        "    plot_snapshot(result_data['results'])\n",
        "\n",
        "  for result_data in comparison_data:\n",
        "    print(f\"{result_data['meta']['PREDICT_IN_FUTURE']} ------------------------------\")\n",
        "    for name in result_data['results']:\n",
        "      if name == \"Moving Average\" or name == \"Naive\":\n",
        "        continue\n",
        "\n",
        "      grid_res = {}\n",
        "      aux = [grid['best_params'] for grid in result_data['results'][name]['grid_res']]\n",
        "\n",
        "      for p in aux[0]:\n",
        "        grid_res[p] = collections.Counter([grid[p] for grid in aux]).most_common()\n",
        "\n",
        "      print(name)\n",
        "      print(grid_res)\n",
        "\n",
        "\n",
        "  plot_name = 'Comparação da Previsão de Curto Prazo com Tuning'\n",
        "  plot_y_label = 'Tempo (Minutos)'\n",
        "  values = [r['meta']['PREDICT_IN_FUTURE'] for r in comparison_data]\n",
        "\n",
        "  # plot_results_comparison(plot_name, plot_y_label, values, 'NRMSE')\n",
        "  plot_results_comparison(plot_name, plot_y_label, values, 'RMSE')\n",
        "  plot_results_comparison(plot_name, plot_y_label, values, 'MAE')\n",
        "  plot_results_comparison(plot_name, plot_y_label, values, 'HR')\n",
        "  plot_results_comparison(plot_name, plot_y_label, values, 'TIME')"
      ],
      "execution_count": 0,
      "outputs": []
    },
    {
      "cell_type": "code",
      "metadata": {
        "id": "BrYF6F91QMNx",
        "colab_type": "code",
        "colab": {}
      },
      "source": [
        "name_time = 1573458076\n",
        "\n",
        "with open(f\"{PATH}results/comparison/seeable_past_comparison_{name_time}.json\", 'r') as json_file:\n",
        "  comparison_data = json.load(json_file)\n",
        "\n",
        "  for result_data in comparison_data:\n",
        "    plot_snapshot(result_data['results'])\n",
        "\n",
        "  plot_name = 'Comparação do Passado Visível'\n",
        "  plot_y_label = 'Passado Visível (Minutos)'\n",
        "  values = [r['meta']['SEEABLE_PAST'] for r in comparison_data]\n",
        "\n",
        "  plot_results_comparison(plot_name, plot_y_label, values, 'NRMSE')\n",
        "  plot_results_comparison(plot_name, plot_y_label, values, 'RMSE')\n",
        "  plot_results_comparison(plot_name, plot_y_label, values, 'MAE')\n",
        "  plot_results_comparison(plot_name, plot_y_label, values, 'HR')\n",
        "  plot_results_comparison(plot_name, plot_y_label, values, 'TIME')"
      ],
      "execution_count": 0,
      "outputs": []
    },
    {
      "cell_type": "code",
      "metadata": {
        "id": "kDbg521IGBWr",
        "colab_type": "code",
        "colab": {}
      },
      "source": [
        "names = {\n",
        "    # 'RF Grid A',\n",
        "    # 'RF Grid B',\n",
        "    'SVM Grid A',\n",
        "    # 'SVM Grid B',\n",
        "    # 'LSTM Grid A',\n",
        "    # 'LSTM Grid B',\n",
        "    # 'GRU Grid A',\n",
        "    # 'GRU Grid B',\n",
        "}\n",
        "\n",
        "for name in names:\n",
        "  with open(f\"{PATH}results/grid/{name}.json\", 'r') as json_file:\n",
        "    grid_result = json.load(json_file)\n",
        "\n",
        "    keys = list(grid_result['params'].keys())\n",
        "    values = list(grid_result['params'].values())\n",
        "\n",
        "    plot_grid_search(name, grid_result['score'], values[0], values[1], keys[0], keys[1])"
      ],
      "execution_count": 0,
      "outputs": []
    }
  ]
}