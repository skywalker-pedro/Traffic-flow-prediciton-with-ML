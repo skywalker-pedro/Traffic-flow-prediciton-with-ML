{
  "nbformat": 4,
  "nbformat_minor": 0,
  "metadata": {
    "colab": {
      "name": "tcc_data_processing.ipynb",
      "provenance": [],
      "collapsed_sections": [],
      "include_colab_link": true
    },
    "kernelspec": {
      "name": "python3",
      "display_name": "Python 3"
    }
  },
  "cells": [
    {
      "cell_type": "markdown",
      "metadata": {
        "id": "view-in-github",
        "colab_type": "text"
      },
      "source": [
        "<a href=\"https://colab.research.google.com/github/claudiosegala/tcc/blob/master/project/tcc_data_processing.ipynb\" target=\"_parent\"><img src=\"https://colab.research.google.com/assets/colab-badge.svg\" alt=\"Open In Colab\"/></a>"
      ]
    },
    {
      "cell_type": "code",
      "metadata": {
        "id": "2DKrCg_ujlkM",
        "colab_type": "code",
        "outputId": "00adf3b6-9998-449f-ed50-b5cbefe6b7f1",
        "colab": {
          "base_uri": "https://localhost:8080/",
          "height": 34
        }
      },
      "source": [
        "import google as g # To connect with google drive\n",
        "g.colab.drive.mount('/content/drive')"
      ],
      "execution_count": 0,
      "outputs": [
        {
          "output_type": "stream",
          "text": [
            "Drive already mounted at /content/drive; to attempt to forcibly remount, call drive.mount(\"/content/drive\", force_remount=True).\n"
          ],
          "name": "stdout"
        }
      ]
    },
    {
      "cell_type": "code",
      "metadata": {
        "id": "iwlEjSTqj8B5",
        "colab_type": "code",
        "outputId": "4dfc44c2-3a33-41b4-f28f-60bfc64c1fbd",
        "colab": {
          "base_uri": "https://localhost:8080/",
          "height": 255
        }
      },
      "source": [
        "!pip install numpy\n",
        "!pip install pandas\n",
        "!pip install statsmodels"
      ],
      "execution_count": 0,
      "outputs": [
        {
          "output_type": "stream",
          "text": [
            "Requirement already satisfied: numpy in /usr/local/lib/python3.6/dist-packages (1.17.4)\n",
            "Requirement already satisfied: pandas in /usr/local/lib/python3.6/dist-packages (0.25.3)\n",
            "Requirement already satisfied: numpy>=1.13.3 in /usr/local/lib/python3.6/dist-packages (from pandas) (1.17.4)\n",
            "Requirement already satisfied: pytz>=2017.2 in /usr/local/lib/python3.6/dist-packages (from pandas) (2018.9)\n",
            "Requirement already satisfied: python-dateutil>=2.6.1 in /usr/local/lib/python3.6/dist-packages (from pandas) (2.6.1)\n",
            "Requirement already satisfied: six>=1.5 in /usr/local/lib/python3.6/dist-packages (from python-dateutil>=2.6.1->pandas) (1.12.0)\n",
            "Requirement already satisfied: statsmodels in /usr/local/lib/python3.6/dist-packages (0.10.1)\n",
            "Requirement already satisfied: pandas>=0.19 in /usr/local/lib/python3.6/dist-packages (from statsmodels) (0.25.3)\n",
            "Requirement already satisfied: scipy>=0.18 in /usr/local/lib/python3.6/dist-packages (from statsmodels) (1.3.2)\n",
            "Requirement already satisfied: patsy>=0.4.0 in /usr/local/lib/python3.6/dist-packages (from statsmodels) (0.5.1)\n",
            "Requirement already satisfied: numpy>=1.11 in /usr/local/lib/python3.6/dist-packages (from statsmodels) (1.17.4)\n",
            "Requirement already satisfied: pytz>=2017.2 in /usr/local/lib/python3.6/dist-packages (from pandas>=0.19->statsmodels) (2018.9)\n",
            "Requirement already satisfied: python-dateutil>=2.6.1 in /usr/local/lib/python3.6/dist-packages (from pandas>=0.19->statsmodels) (2.6.1)\n",
            "Requirement already satisfied: six in /usr/local/lib/python3.6/dist-packages (from patsy>=0.4.0->statsmodels) (1.12.0)\n"
          ],
          "name": "stdout"
        }
      ]
    },
    {
      "cell_type": "code",
      "metadata": {
        "id": "6AKrF-MekH-z",
        "colab_type": "code",
        "colab": {}
      },
      "source": [
        "import pandas as pd # data manipulation library\n",
        "import numpy as np # math library\n",
        "import datetime as dt # to discover week day\n",
        "import statsmodels as sm # statistical models\n",
        "import statsmodels.api as sma # statistical models api\n",
        "import time as tm\n",
        "import matplotlib.pyplot as plt"
      ],
      "execution_count": 0,
      "outputs": []
    },
    {
      "cell_type": "code",
      "metadata": {
        "id": "31-2TQiEkQWi",
        "colab_type": "code",
        "colab": {}
      },
      "source": [
        "TCC_FOLDER = '/content/drive/My Drive/TCC/'"
      ],
      "execution_count": 0,
      "outputs": []
    },
    {
      "cell_type": "code",
      "metadata": {
        "id": "12_oiu5Fkf4H",
        "colab_type": "code",
        "colab": {}
      },
      "source": [
        "DATASET_PATH = f\"{TCC_FOLDER}dataset/all_data_sorted.csv\""
      ],
      "execution_count": 0,
      "outputs": []
    },
    {
      "cell_type": "code",
      "metadata": {
        "id": "Q-J9ZspukjZA",
        "colab_type": "code",
        "colab": {}
      },
      "source": [
        "col_names = [\n",
        "  'Sensor',\n",
        "  'Date',\n",
        "  'Time',\n",
        "  'Lane',\n",
        "  'Speed',\n",
        "  'Max Speed',\n",
        "  'Size'\n",
        "]\n",
        "\n",
        "data = pd.read_csv(DATASET_PATH, ';', header=None, names=col_names)"
      ],
      "execution_count": 0,
      "outputs": []
    },
    {
      "cell_type": "code",
      "metadata": {
        "id": "rDnCz36rkr1X",
        "colab_type": "code",
        "outputId": "0ebba281-2cb3-4b98-f586-c2bd8f626e17",
        "colab": {
          "base_uri": "https://localhost:8080/",
          "height": 204
        }
      },
      "source": [
        "data.head()"
      ],
      "execution_count": 0,
      "outputs": [
        {
          "output_type": "execute_result",
          "data": {
            "text/html": [
              "<div>\n",
              "<style scoped>\n",
              "    .dataframe tbody tr th:only-of-type {\n",
              "        vertical-align: middle;\n",
              "    }\n",
              "\n",
              "    .dataframe tbody tr th {\n",
              "        vertical-align: top;\n",
              "    }\n",
              "\n",
              "    .dataframe thead th {\n",
              "        text-align: right;\n",
              "    }\n",
              "</style>\n",
              "<table border=\"1\" class=\"dataframe\">\n",
              "  <thead>\n",
              "    <tr style=\"text-align: right;\">\n",
              "      <th></th>\n",
              "      <th>Sensor</th>\n",
              "      <th>Date</th>\n",
              "      <th>Time</th>\n",
              "      <th>Lane</th>\n",
              "      <th>Speed</th>\n",
              "      <th>Max Speed</th>\n",
              "      <th>Size</th>\n",
              "    </tr>\n",
              "  </thead>\n",
              "  <tbody>\n",
              "    <tr>\n",
              "      <th>0</th>\n",
              "      <td>RSI128</td>\n",
              "      <td>2016/05/01</td>\n",
              "      <td>00:00:09</td>\n",
              "      <td>1</td>\n",
              "      <td>26.0</td>\n",
              "      <td>60.0</td>\n",
              "      <td>0.0</td>\n",
              "    </tr>\n",
              "    <tr>\n",
              "      <th>1</th>\n",
              "      <td>RSI131</td>\n",
              "      <td>2016/05/01</td>\n",
              "      <td>00:00:09</td>\n",
              "      <td>2</td>\n",
              "      <td>20.0</td>\n",
              "      <td>60.0</td>\n",
              "      <td>1.1</td>\n",
              "    </tr>\n",
              "    <tr>\n",
              "      <th>2</th>\n",
              "      <td>RSI132</td>\n",
              "      <td>2016/05/01</td>\n",
              "      <td>00:00:09</td>\n",
              "      <td>1</td>\n",
              "      <td>45.0</td>\n",
              "      <td>60.0</td>\n",
              "      <td>0.0</td>\n",
              "    </tr>\n",
              "    <tr>\n",
              "      <th>3</th>\n",
              "      <td>RSI131</td>\n",
              "      <td>2016/05/01</td>\n",
              "      <td>00:00:10</td>\n",
              "      <td>1</td>\n",
              "      <td>40.0</td>\n",
              "      <td>60.0</td>\n",
              "      <td>0.5</td>\n",
              "    </tr>\n",
              "    <tr>\n",
              "      <th>4</th>\n",
              "      <td>RSI129</td>\n",
              "      <td>2016/05/01</td>\n",
              "      <td>00:00:12</td>\n",
              "      <td>1</td>\n",
              "      <td>35.0</td>\n",
              "      <td>60.0</td>\n",
              "      <td>0.0</td>\n",
              "    </tr>\n",
              "  </tbody>\n",
              "</table>\n",
              "</div>"
            ],
            "text/plain": [
              "   Sensor        Date      Time  Lane  Speed  Max Speed  Size\n",
              "0  RSI128  2016/05/01  00:00:09     1   26.0       60.0   0.0\n",
              "1  RSI131  2016/05/01  00:00:09     2   20.0       60.0   1.1\n",
              "2  RSI132  2016/05/01  00:00:09     1   45.0       60.0   0.0\n",
              "3  RSI131  2016/05/01  00:00:10     1   40.0       60.0   0.5\n",
              "4  RSI129  2016/05/01  00:00:12     1   35.0       60.0   0.0"
            ]
          },
          "metadata": {
            "tags": []
          },
          "execution_count": 9
        }
      ]
    },
    {
      "cell_type": "code",
      "metadata": {
        "id": "uBEuB3H8kuVJ",
        "colab_type": "code",
        "outputId": "821b5d8f-3556-4c4a-afb1-07dab58d61ec",
        "colab": {
          "base_uri": "https://localhost:8080/",
          "height": 297
        }
      },
      "source": [
        "data.describe()"
      ],
      "execution_count": 0,
      "outputs": [
        {
          "output_type": "execute_result",
          "data": {
            "text/html": [
              "<div>\n",
              "<style scoped>\n",
              "    .dataframe tbody tr th:only-of-type {\n",
              "        vertical-align: middle;\n",
              "    }\n",
              "\n",
              "    .dataframe tbody tr th {\n",
              "        vertical-align: top;\n",
              "    }\n",
              "\n",
              "    .dataframe thead th {\n",
              "        text-align: right;\n",
              "    }\n",
              "</style>\n",
              "<table border=\"1\" class=\"dataframe\">\n",
              "  <thead>\n",
              "    <tr style=\"text-align: right;\">\n",
              "      <th></th>\n",
              "      <th>Lane</th>\n",
              "      <th>Speed</th>\n",
              "      <th>Max Speed</th>\n",
              "      <th>Size</th>\n",
              "    </tr>\n",
              "  </thead>\n",
              "  <tbody>\n",
              "    <tr>\n",
              "      <th>count</th>\n",
              "      <td>1.080178e+07</td>\n",
              "      <td>1.080178e+07</td>\n",
              "      <td>10801781.0</td>\n",
              "      <td>1.080178e+07</td>\n",
              "    </tr>\n",
              "    <tr>\n",
              "      <th>mean</th>\n",
              "      <td>1.656316e+00</td>\n",
              "      <td>3.654532e+01</td>\n",
              "      <td>60.0</td>\n",
              "      <td>1.049269e-01</td>\n",
              "    </tr>\n",
              "    <tr>\n",
              "      <th>std</th>\n",
              "      <td>7.029681e-01</td>\n",
              "      <td>1.133506e+01</td>\n",
              "      <td>0.0</td>\n",
              "      <td>8.707685e-01</td>\n",
              "    </tr>\n",
              "    <tr>\n",
              "      <th>min</th>\n",
              "      <td>1.000000e+00</td>\n",
              "      <td>1.000000e+00</td>\n",
              "      <td>60.0</td>\n",
              "      <td>0.000000e+00</td>\n",
              "    </tr>\n",
              "    <tr>\n",
              "      <th>25%</th>\n",
              "      <td>1.000000e+00</td>\n",
              "      <td>2.800000e+01</td>\n",
              "      <td>60.0</td>\n",
              "      <td>0.000000e+00</td>\n",
              "    </tr>\n",
              "    <tr>\n",
              "      <th>50%</th>\n",
              "      <td>2.000000e+00</td>\n",
              "      <td>3.700000e+01</td>\n",
              "      <td>60.0</td>\n",
              "      <td>0.000000e+00</td>\n",
              "    </tr>\n",
              "    <tr>\n",
              "      <th>75%</th>\n",
              "      <td>2.000000e+00</td>\n",
              "      <td>4.600000e+01</td>\n",
              "      <td>60.0</td>\n",
              "      <td>0.000000e+00</td>\n",
              "    </tr>\n",
              "    <tr>\n",
              "      <th>max</th>\n",
              "      <td>3.000000e+00</td>\n",
              "      <td>1.120000e+02</td>\n",
              "      <td>60.0</td>\n",
              "      <td>5.000000e+01</td>\n",
              "    </tr>\n",
              "  </tbody>\n",
              "</table>\n",
              "</div>"
            ],
            "text/plain": [
              "               Lane         Speed   Max Speed          Size\n",
              "count  1.080178e+07  1.080178e+07  10801781.0  1.080178e+07\n",
              "mean   1.656316e+00  3.654532e+01        60.0  1.049269e-01\n",
              "std    7.029681e-01  1.133506e+01         0.0  8.707685e-01\n",
              "min    1.000000e+00  1.000000e+00        60.0  0.000000e+00\n",
              "25%    1.000000e+00  2.800000e+01        60.0  0.000000e+00\n",
              "50%    2.000000e+00  3.700000e+01        60.0  0.000000e+00\n",
              "75%    2.000000e+00  4.600000e+01        60.0  0.000000e+00\n",
              "max    3.000000e+00  1.120000e+02        60.0  5.000000e+01"
            ]
          },
          "metadata": {
            "tags": []
          },
          "execution_count": 10
        }
      ]
    },
    {
      "cell_type": "code",
      "metadata": {
        "id": "9Aqc4gsDkowQ",
        "colab_type": "code",
        "outputId": "ec76b82c-c65f-48ec-b8db-8648b517cf7b",
        "colab": {
          "base_uri": "https://localhost:8080/",
          "height": 68
        }
      },
      "source": [
        "print(f\"It contains {len(data['Sensor'])} entries\\n\\n\")"
      ],
      "execution_count": 0,
      "outputs": [
        {
          "output_type": "stream",
          "text": [
            "It contains 10801781 entries\n",
            "\n",
            "\n"
          ],
          "name": "stdout"
        }
      ]
    },
    {
      "cell_type": "code",
      "metadata": {
        "id": "dp1laIywkz7N",
        "colab_type": "code",
        "outputId": "2c85cd2b-b66e-48db-d19e-f4c8a399b3ff",
        "colab": {
          "base_uri": "https://localhost:8080/",
          "height": 170
        }
      },
      "source": [
        "print(f\"This dataset contains {len(set(data['Sensor']))} sensors.\")\n",
        "\n",
        "for val in set(data['Sensor']):\n",
        "  print(f\"Sensor {val} has {len(data[data['Sensor'] == val])}\")"
      ],
      "execution_count": 0,
      "outputs": [
        {
          "output_type": "stream",
          "text": [
            "This dataset contains 8 sensors.\n",
            "Sensor RSI032 has 2117820\n",
            "Sensor RSI131 has 816219\n",
            "Sensor RSI132 has 652998\n",
            "Sensor RSI128 has 536879\n",
            "Sensor RSI129 has 578652\n",
            "Sensor RSI018 has 2029559\n",
            "Sensor RSI017 has 1686900\n",
            "Sensor RSI033 has 2382754\n"
          ],
          "name": "stdout"
        }
      ]
    },
    {
      "cell_type": "code",
      "metadata": {
        "id": "D6yWCgzakxQP",
        "colab_type": "code",
        "colab": {}
      },
      "source": [
        "# Limit sensor usage\n",
        "data = data[data['Sensor'] == 'RSI128']"
      ],
      "execution_count": 0,
      "outputs": []
    },
    {
      "cell_type": "code",
      "metadata": {
        "id": "1j-eX_ErlBmy",
        "colab_type": "code",
        "colab": {}
      },
      "source": [
        "# Remove unnecessary columns\n",
        "data = data.drop(columns=['Sensor','Lane','Max Speed','Size'])"
      ],
      "execution_count": 0,
      "outputs": []
    },
    {
      "cell_type": "code",
      "metadata": {
        "id": "tsgErzk3lUlI",
        "colab_type": "code",
        "colab": {}
      },
      "source": [
        "# Get datetime\n",
        "data['Date'] = pd.to_datetime(data['Date'], format='%Y/%m/%d')"
      ],
      "execution_count": 0,
      "outputs": []
    },
    {
      "cell_type": "code",
      "metadata": {
        "id": "k7nF_WWDlaEs",
        "colab_type": "code",
        "colab": {}
      },
      "source": [
        "# Adjust type\n",
        "f = lambda x : tm.strptime(x, '%H:%M:%S')\n",
        "data['Time'] = data['Time'].apply(f)\n",
        "\n",
        "g = lambda x : dt.timedelta(hours=x.tm_hour,minutes=x.tm_min,seconds=x.tm_sec).total_seconds()\n",
        "data['Time'] = data['Time'].apply(g)\n",
        "\n",
        "h = lambda x : int(x)\n",
        "data['Time'] = data['Time'].apply(h)"
      ],
      "execution_count": 0,
      "outputs": []
    },
    {
      "cell_type": "code",
      "metadata": {
        "id": "K5c_FZ6-ledX",
        "colab_type": "code",
        "colab": {}
      },
      "source": [
        "# Create week day from date\n",
        "j = lambda x : x.weekday()\n",
        "data['WeekDay'] = data['Date'].apply(j)"
      ],
      "execution_count": 0,
      "outputs": []
    },
    {
      "cell_type": "code",
      "metadata": {
        "id": "ityRaQkmlxzs",
        "colab_type": "code",
        "outputId": "203aa428-f1f7-4ef4-bdaa-ae80ddd1b4a2",
        "colab": {
          "base_uri": "https://localhost:8080/",
          "height": 204
        }
      },
      "source": [
        "data.head()"
      ],
      "execution_count": 0,
      "outputs": [
        {
          "output_type": "execute_result",
          "data": {
            "text/html": [
              "<div>\n",
              "<style scoped>\n",
              "    .dataframe tbody tr th:only-of-type {\n",
              "        vertical-align: middle;\n",
              "    }\n",
              "\n",
              "    .dataframe tbody tr th {\n",
              "        vertical-align: top;\n",
              "    }\n",
              "\n",
              "    .dataframe thead th {\n",
              "        text-align: right;\n",
              "    }\n",
              "</style>\n",
              "<table border=\"1\" class=\"dataframe\">\n",
              "  <thead>\n",
              "    <tr style=\"text-align: right;\">\n",
              "      <th></th>\n",
              "      <th>Date</th>\n",
              "      <th>Time</th>\n",
              "      <th>Speed</th>\n",
              "      <th>WeekDay</th>\n",
              "    </tr>\n",
              "  </thead>\n",
              "  <tbody>\n",
              "    <tr>\n",
              "      <th>0</th>\n",
              "      <td>2016-05-01</td>\n",
              "      <td>9</td>\n",
              "      <td>26.0</td>\n",
              "      <td>6</td>\n",
              "    </tr>\n",
              "    <tr>\n",
              "      <th>7</th>\n",
              "      <td>2016-05-01</td>\n",
              "      <td>18</td>\n",
              "      <td>32.0</td>\n",
              "      <td>6</td>\n",
              "    </tr>\n",
              "    <tr>\n",
              "      <th>39</th>\n",
              "      <td>2016-05-01</td>\n",
              "      <td>104</td>\n",
              "      <td>16.0</td>\n",
              "      <td>6</td>\n",
              "    </tr>\n",
              "    <tr>\n",
              "      <th>108</th>\n",
              "      <td>2016-05-01</td>\n",
              "      <td>206</td>\n",
              "      <td>22.0</td>\n",
              "      <td>6</td>\n",
              "    </tr>\n",
              "    <tr>\n",
              "      <th>160</th>\n",
              "      <td>2016-05-01</td>\n",
              "      <td>305</td>\n",
              "      <td>25.0</td>\n",
              "      <td>6</td>\n",
              "    </tr>\n",
              "  </tbody>\n",
              "</table>\n",
              "</div>"
            ],
            "text/plain": [
              "          Date  Time  Speed  WeekDay\n",
              "0   2016-05-01     9   26.0        6\n",
              "7   2016-05-01    18   32.0        6\n",
              "39  2016-05-01   104   16.0        6\n",
              "108 2016-05-01   206   22.0        6\n",
              "160 2016-05-01   305   25.0        6"
            ]
          },
          "metadata": {
            "tags": []
          },
          "execution_count": 18
        }
      ]
    },
    {
      "cell_type": "code",
      "metadata": {
        "id": "S07zoONNlzAI",
        "colab_type": "code",
        "outputId": "5fc8f4b3-9727-4bc7-a267-0d762def82ef",
        "colab": {
          "base_uri": "https://localhost:8080/",
          "height": 297
        }
      },
      "source": [
        "data.describe()"
      ],
      "execution_count": 0,
      "outputs": [
        {
          "output_type": "execute_result",
          "data": {
            "text/html": [
              "<div>\n",
              "<style scoped>\n",
              "    .dataframe tbody tr th:only-of-type {\n",
              "        vertical-align: middle;\n",
              "    }\n",
              "\n",
              "    .dataframe tbody tr th {\n",
              "        vertical-align: top;\n",
              "    }\n",
              "\n",
              "    .dataframe thead th {\n",
              "        text-align: right;\n",
              "    }\n",
              "</style>\n",
              "<table border=\"1\" class=\"dataframe\">\n",
              "  <thead>\n",
              "    <tr style=\"text-align: right;\">\n",
              "      <th></th>\n",
              "      <th>Time</th>\n",
              "      <th>Speed</th>\n",
              "      <th>WeekDay</th>\n",
              "    </tr>\n",
              "  </thead>\n",
              "  <tbody>\n",
              "    <tr>\n",
              "      <th>count</th>\n",
              "      <td>536879.000000</td>\n",
              "      <td>536879.000000</td>\n",
              "      <td>536879.000000</td>\n",
              "    </tr>\n",
              "    <tr>\n",
              "      <th>mean</th>\n",
              "      <td>51715.214387</td>\n",
              "      <td>31.078891</td>\n",
              "      <td>2.951632</td>\n",
              "    </tr>\n",
              "    <tr>\n",
              "      <th>std</th>\n",
              "      <td>17952.214406</td>\n",
              "      <td>7.168803</td>\n",
              "      <td>1.959146</td>\n",
              "    </tr>\n",
              "    <tr>\n",
              "      <th>min</th>\n",
              "      <td>3.000000</td>\n",
              "      <td>2.000000</td>\n",
              "      <td>0.000000</td>\n",
              "    </tr>\n",
              "    <tr>\n",
              "      <th>25%</th>\n",
              "      <td>38412.500000</td>\n",
              "      <td>26.000000</td>\n",
              "      <td>1.000000</td>\n",
              "    </tr>\n",
              "    <tr>\n",
              "      <th>50%</th>\n",
              "      <td>52364.000000</td>\n",
              "      <td>31.000000</td>\n",
              "      <td>3.000000</td>\n",
              "    </tr>\n",
              "    <tr>\n",
              "      <th>75%</th>\n",
              "      <td>65757.000000</td>\n",
              "      <td>35.000000</td>\n",
              "      <td>5.000000</td>\n",
              "    </tr>\n",
              "    <tr>\n",
              "      <th>max</th>\n",
              "      <td>86399.000000</td>\n",
              "      <td>67.000000</td>\n",
              "      <td>6.000000</td>\n",
              "    </tr>\n",
              "  </tbody>\n",
              "</table>\n",
              "</div>"
            ],
            "text/plain": [
              "                Time          Speed        WeekDay\n",
              "count  536879.000000  536879.000000  536879.000000\n",
              "mean    51715.214387      31.078891       2.951632\n",
              "std     17952.214406       7.168803       1.959146\n",
              "min         3.000000       2.000000       0.000000\n",
              "25%     38412.500000      26.000000       1.000000\n",
              "50%     52364.000000      31.000000       3.000000\n",
              "75%     65757.000000      35.000000       5.000000\n",
              "max     86399.000000      67.000000       6.000000"
            ]
          },
          "metadata": {
            "tags": []
          },
          "execution_count": 19
        }
      ]
    },
    {
      "cell_type": "code",
      "metadata": {
        "id": "3855zQW8lmcZ",
        "colab_type": "code",
        "outputId": "4cdd5dc3-60db-49f9-cffe-63fa824177a9",
        "colab": {
          "base_uri": "https://localhost:8080/",
          "height": 153
        }
      },
      "source": [
        "for col, cont in data.iteritems():\n",
        "  print(f\"Column {col} has {cont.isnull().sum()} null elements\")\n",
        "  print(f\"Column {col} has {cont.isna().sum()} nan elements\")"
      ],
      "execution_count": 0,
      "outputs": [
        {
          "output_type": "stream",
          "text": [
            "Column Date has 0 null elements\n",
            "Column Date has 0 nan elements\n",
            "Column Time has 0 null elements\n",
            "Column Time has 0 nan elements\n",
            "Column Speed has 0 null elements\n",
            "Column Speed has 0 nan elements\n",
            "Column WeekDay has 0 null elements\n",
            "Column WeekDay has 0 nan elements\n"
          ],
          "name": "stdout"
        }
      ]
    },
    {
      "cell_type": "code",
      "metadata": {
        "id": "K7iOR2rtlpy5",
        "colab_type": "code",
        "outputId": "7c530f39-5519-4281-9c34-26ea7c451b0f",
        "colab": {
          "base_uri": "https://localhost:8080/",
          "height": 119
        }
      },
      "source": [
        "start = data['Date'].min()\n",
        "end = data['Date'].max()\n",
        "\n",
        "print(f\"\\nThis data is from <{start}> to <{end}>. {(end - start).days + 1} days.\\n\")\n",
        "print(f\"It contains {len(data['Date'])} entries\\n\\n\")"
      ],
      "execution_count": 0,
      "outputs": [
        {
          "output_type": "stream",
          "text": [
            "\n",
            "This data is from <2016-05-01 00:00:00> to <2016-07-31 00:00:00>. 92 days.\n",
            "\n",
            "It contains 536879 entries\n",
            "\n",
            "\n"
          ],
          "name": "stdout"
        }
      ]
    },
    {
      "cell_type": "code",
      "metadata": {
        "id": "EO82r2iSmq89",
        "colab_type": "code",
        "colab": {}
      },
      "source": [
        "data.to_csv(f\"{TCC_FOLDER}dataset/dataset.csv\", \";\", index=False)"
      ],
      "execution_count": 0,
      "outputs": []
    },
    {
      "cell_type": "code",
      "metadata": {
        "id": "pky3opRjvCmJ",
        "colab_type": "code",
        "colab": {}
      },
      "source": [
        "def get_day_size (flow_interval):\n",
        "  return (24 * 60 * 60) // flow_interval  "
      ],
      "execution_count": 0,
      "outputs": []
    },
    {
      "cell_type": "code",
      "metadata": {
        "id": "vRM4OWHoyWCI",
        "colab_type": "code",
        "colab": {}
      },
      "source": [
        "def get_week_size (flow_interval):\n",
        "  return (7 * 24 * 60 * 60) // flow_interval  "
      ],
      "execution_count": 0,
      "outputs": []
    },
    {
      "cell_type": "code",
      "metadata": {
        "id": "9P2rd8okwFCB",
        "colab_type": "code",
        "colab": {}
      },
      "source": [
        "def get_flow_data(n, accSpeed, weekDay):\n",
        "  avgSpeed = (accSpeed / n) if n else 0\n",
        "  density = (n / avgSpeed) if avgSpeed else 0\n",
        "  w = [(1 if weekDay == i else 0) for i in range(7)] # weekday\n",
        "  \n",
        "  return (n, density, avgSpeed, w[0], w[1], w[2], w[3], w[4], w[5], w[6])"
      ],
      "execution_count": 0,
      "outputs": []
    },
    {
      "cell_type": "code",
      "metadata": {
        "id": "Y8exHEaZupIF",
        "colab_type": "code",
        "colab": {}
      },
      "source": [
        "def get_flow (data, flow_interval):\n",
        "  date = np.asarray(data['Date'])\n",
        "  weekDay = np.asarray(data['WeekDay'])\n",
        "  time = np.asarray(data['Time'])\n",
        "  speed = np.asarray(data['Speed'])\n",
        "  \n",
        "  dateControl = date[0]\n",
        "  timeBlock = flow_interval\n",
        "  countFlow = 0\n",
        "  accSpeed = 0\n",
        "  flowData = []\n",
        "\n",
        "  for i in range(len(date)):\n",
        "    if time[i] >= timeBlock: # init a new time block\n",
        "      flowData.append(get_flow_data(countFlow, accSpeed, weekDay[i])) \n",
        "      timeBlock += flow_interval\n",
        "      accSpeed = 0\n",
        "      countFlow = 0\n",
        "      \n",
        "    if date[i] > dateControl: # reset on day change\n",
        "      dateControl = date[i]\n",
        "      timeBlock = flow_interval \n",
        "      countFlow = 0\n",
        "      accSpeed = 0\n",
        "      \n",
        "    if time[i] < timeBlock: # add car on flow\n",
        "      countFlow += 1\n",
        "      accSpeed += speed[i]\n",
        "\n",
        "  day_size = get_day_size(flow_interval)\n",
        "  k = (day_size - (len(flowData) % day_size)) % day_size\n",
        "\n",
        "  for i in range(k):\n",
        "    flowData.append(get_flow_data(0, 0, weekDay[len(date) - 1])) \n",
        "      \n",
        "  cols = [\n",
        "    'Flow',\n",
        "    'Density',\n",
        "    'AveSpeed',\n",
        "    'Sunday',\n",
        "    'Monday',\n",
        "    'Tuesday',\n",
        "    'Wednesday',\n",
        "    'Thursday',\n",
        "    'Friday',\n",
        "    'Saturday',\n",
        "  ]\n",
        "  \n",
        "  flowData = pd.DataFrame(flowData, columns=cols)\n",
        "  \n",
        "  # from sklearn.preprocessing import MinMaxScaler\n",
        "  # scaler = MinMaxScaler(feature_range=(0,1))\n",
        "  # flowDataScaled = scaler.fit_transform(flowData)  \n",
        "  # flowData = pd.DataFrame(flowDataScaled, columns=flowData.columns, index=flowData.index)\n",
        "  \n",
        "  return flowData"
      ],
      "execution_count": 0,
      "outputs": []
    },
    {
      "cell_type": "code",
      "metadata": {
        "id": "as-yKvnLwbiB",
        "colab_type": "code",
        "colab": {}
      },
      "source": [
        "def plot_flow_decomposition(flow_series, freq, flow_interval):\n",
        "  path = f\"{TCC_FOLDER}plots/flow/seasonal_decompose_{flow_interval}\"\n",
        "  \n",
        "  decompose = sm.tsa.seasonal.seasonal_decompose\n",
        "  decomposition = decompose(flow_series, model='additive', freq=freq)\n",
        "  fig = decomposition.plot()\n",
        "\n",
        "  plt.rcdefaults()\n",
        "  \n",
        "  plt.savefig(path + \".png\")\n",
        "  # plt.savefig(path + \".pdf\")\n",
        "    \n",
        "  plt.close('all')"
      ],
      "execution_count": 0,
      "outputs": []
    },
    {
      "cell_type": "code",
      "metadata": {
        "id": "j1GTrwxdwdM7",
        "colab_type": "code",
        "colab": {}
      },
      "source": [
        "def plot_flow(flow_series, flow_interval):\n",
        "  \"\"\" Plot of Flow\n",
        "  \n",
        "  Plot the flow from week to week\n",
        "  \n",
        "  Arguments:\n",
        "    flow_series: an array of flows\n",
        "    flow_interval: the interval in which the flow was made\n",
        "  \"\"\"\n",
        "\n",
        "  week_size = get_week_size(flow_interval)\n",
        "  n = len(flow_series) // week_size\n",
        "\n",
        "  if len(flow_series) % week_size == 0:\n",
        "    print('Yey')\n",
        "\n",
        "  for i in range(n):\n",
        "    s = week_size * i\n",
        "    e = min(s + week_size, len(flow_series))\n",
        "    path = f\"{TCC_FOLDER}plots/flow/flow_{flow_interval}_week_{str(i+1).zfill(2)}\"\n",
        "\n",
        "    plt.plot(flow_series[s:e])\n",
        "\n",
        "    plt.title(f\"Fluxo (Intervalo de {flow_interval} segundos) - Semana {i+1}\")\n",
        "    plt.ylabel('Fluxo')\n",
        "    plt.xlabel('Tempo')\n",
        "    plt.rcdefaults()\n",
        "    \n",
        "    plt.savefig(path + \".png\", bbox_inches='tight')\n",
        "    # plt.savefig(path + \".pdf\")\n",
        "    \n",
        "    plt.close('all')"
      ],
      "execution_count": 0,
      "outputs": []
    },
    {
      "cell_type": "code",
      "metadata": {
        "id": "nCebSTsJuA-a",
        "colab_type": "code",
        "outputId": "3c59d279-6097-41f6-9fea-924f49f0221f",
        "colab": {
          "base_uri": "https://localhost:8080/",
          "height": 1000
        }
      },
      "source": [
        "flows_intervals = [150, 300, 450, 900]\n",
        "\n",
        "for flow_interval in flows_intervals:\n",
        "  flow_data = get_flow(data, flow_interval)\n",
        "  week_size = get_week_size(flow_interval)\n",
        "\n",
        "  plot_flow(flow_data['Flow'], flow_interval)\n",
        "  plot_flow_decomposition(flow_data['Flow'], week_size, flow_interval)\n",
        "  print(flow_data.head(), end=\"\\n\\n\")\n",
        "  print(flow_data.describe(), end=\"\\n\\n\")\n",
        "\n",
        "  flow_data.to_csv(f\"{TCC_FOLDER}dataset/dataset_flow_{flow_interval}.csv\", \";\", index=False)"
      ],
      "execution_count": 0,
      "outputs": [
        {
          "output_type": "stream",
          "text": [
            "   Flow   Density   AveSpeed  Sunday  ...  Wednesday  Thursday  Friday  Saturday\n",
            "0     3  0.121622  24.666667       0  ...          0         0       0         1\n",
            "1     1  0.045455  22.000000       0  ...          0         0       0         1\n",
            "2     2  0.088889  22.500000       0  ...          0         0       0         1\n",
            "3     3  0.138462  21.666667       0  ...          0         0       0         1\n",
            "4     7  0.206751  33.857143       0  ...          0         0       0         1\n",
            "\n",
            "[5 rows x 10 columns]\n",
            "\n",
            "               Flow       Density  ...        Friday      Saturday\n",
            "count  52992.000000  52992.000000  ...  52992.000000  52992.000000\n",
            "mean       9.917837      0.322920  ...      0.141059      0.153665\n",
            "std        8.456189      0.269372  ...      0.348086      0.360630\n",
            "min        0.000000      0.000000  ...      0.000000      0.000000\n",
            "25%        1.000000      0.055556  ...      0.000000      0.000000\n",
            "50%        9.000000      0.297674  ...      0.000000      0.000000\n",
            "75%       17.000000      0.535185  ...      0.000000      0.000000\n",
            "max       41.000000      1.391304  ...      1.000000      1.000000\n",
            "\n",
            "[8 rows x 10 columns]\n",
            "\n",
            "   Flow   Density   AveSpeed  Sunday  ...  Wednesday  Thursday  Friday  Saturday\n",
            "0     4  0.166667  24.000000       0  ...          0         0       0         1\n",
            "1     5  0.227273  22.000000       0  ...          0         0       0         1\n",
            "2    14  0.453704  30.857143       0  ...          0         0       0         1\n",
            "3     9  0.387560  23.222222       0  ...          0         0       0         1\n",
            "4     6  0.218182  27.500000       0  ...          0         0       0         1\n",
            "\n",
            "[5 rows x 10 columns]\n",
            "\n",
            "               Flow       Density  ...        Friday      Saturday\n",
            "count  26496.000000  26496.000000  ...  26496.000000  26496.000000\n",
            "mean      20.133341      0.653740  ...      0.140814      0.155118\n",
            "std       14.784884      0.465023  ...      0.347836      0.362024\n",
            "min        0.000000      0.000000  ...      0.000000      0.000000\n",
            "25%        6.000000      0.241509  ...      0.000000      0.000000\n",
            "50%       20.000000      0.636453  ...      0.000000      0.000000\n",
            "75%       31.000000      0.999083  ...      0.000000      0.000000\n",
            "max       68.000000      2.191147  ...      1.000000      1.000000\n",
            "\n",
            "[8 rows x 10 columns]\n",
            "\n",
            "   Flow   Density   AveSpeed  Sunday  ...  Wednesday  Thursday  Friday  Saturday\n",
            "0     6  0.255319  23.500000       0  ...          0         0       0         1\n",
            "1    17  0.581489  29.235294       0  ...          0         0       0         1\n",
            "2    15  0.601604  24.933333       0  ...          0         0       0         1\n",
            "3    18  0.654545  27.500000       0  ...          0         0       0         1\n",
            "4    14  0.717949  19.500000       0  ...          0         0       0         1\n",
            "\n",
            "[5 rows x 10 columns]\n",
            "\n",
            "               Flow       Density  ...        Friday      Saturday\n",
            "count  17664.000000  17664.000000  ...  17664.000000  17664.000000\n",
            "mean      30.282212      0.982260  ...      0.140568      0.156590\n",
            "std       20.627536      0.645344  ...      0.347586      0.363424\n",
            "min        0.000000      0.000000  ...      0.000000      0.000000\n",
            "25%        9.000000      0.373134  ...      0.000000      0.000000\n",
            "50%       32.000000      1.035842  ...      0.000000      0.000000\n",
            "75%       46.000000      1.471538  ...      0.000000      0.000000\n",
            "max       94.000000      3.119794  ...      1.000000      1.000000\n",
            "\n",
            "[8 rows x 10 columns]\n",
            "\n",
            "   Flow   Density   AveSpeed  Sunday  ...  Wednesday  Thursday  Friday  Saturday\n",
            "0    23  0.829154  27.739130       0  ...          0         0       0         1\n",
            "1    33  1.253165  26.333333       0  ...          0         0       0         1\n",
            "2    28  1.397504  20.035714       0  ...          0         0       0         1\n",
            "3    14  0.725926  19.285714       0  ...          0         0       0         1\n",
            "4    26  1.177700  22.076923       0  ...          0         0       0         1\n",
            "\n",
            "[5 rows x 10 columns]\n",
            "\n",
            "              Flow      Density  ...       Friday     Saturday\n",
            "count  8832.000000  8832.000000  ...  8832.000000  8832.000000\n",
            "mean     60.529665     1.959811  ...     0.139832     0.161005\n",
            "std      39.375777     1.226777  ...     0.346833     0.367557\n",
            "min       0.000000     0.000000  ...     0.000000     0.000000\n",
            "25%      18.000000     0.724900  ...     0.000000     0.000000\n",
            "50%      67.000000     2.154477  ...     0.000000     0.000000\n",
            "75%      94.000000     2.979229  ...     0.000000     0.000000\n",
            "max     156.000000     5.181179  ...     1.000000     1.000000\n",
            "\n",
            "[8 rows x 10 columns]\n",
            "\n"
          ],
          "name": "stdout"
        }
      ]
    }
  ]
}